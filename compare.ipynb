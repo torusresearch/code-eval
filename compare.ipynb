{
 "cells": [
  {
   "cell_type": "code",
   "execution_count": 21,
   "metadata": {},
   "outputs": [
    {
     "name": "stdout",
     "output_type": "stream",
     "text": [
      "HumanEval/0: Pass @10 diff: 0 1\n",
      "HumanEval/3: Pass @10 diff: 3 0\n",
      "HumanEval/5: Pass @10 diff: 3 0\n",
      "HumanEval/18: Pass @10 diff: 0 9\n",
      "HumanEval/30: Pass @10 diff: 6 0\n",
      "HumanEval/40: Pass @10 diff: 0 3\n",
      "HumanEval/49: Pass @10 diff: 0 1\n",
      "HumanEval/56: Pass @10 diff: 0 6\n",
      "HumanEval/57: Pass @10 diff: 2 0\n",
      "HumanEval/62: Pass @10 diff: 0 1\n",
      "HumanEval/66: Pass @10 diff: 0 5\n",
      "HumanEval/71: Pass @10 diff: 0 5\n",
      "HumanEval/72: Pass @10 diff: 7 0\n",
      "HumanEval/76: Pass @10 diff: 1 0\n",
      "HumanEval/78: Pass @10 diff: 0 2\n",
      "HumanEval/79: Pass @10 diff: 0 5\n",
      "HumanEval/82: Pass @10 diff: 2 0\n",
      "HumanEval/84: Pass @10 diff: 0 5\n",
      "HumanEval/87: Pass @10 diff: 1 0\n",
      "HumanEval/88: Pass @10 diff: 0 5\n",
      "HumanEval/111: Pass @10 diff: 0 1\n",
      "HumanEval/114: Pass @10 diff: 0 5\n",
      "HumanEval/116: Pass @10 diff: 2 0\n",
      "HumanEval/121: Pass @10 diff: 0 1\n",
      "HumanEval/123: Pass @10 diff: 4 0\n",
      "HumanEval/136: Pass @10 diff: 1 0\n",
      "HumanEval/143: Pass @10 diff: 0 3\n",
      "HumanEval/147: Pass @10 diff: 0 1\n",
      "HumanEval/155: Pass @10 diff: 0 6\n",
      "HumanEval/156: Pass @10 diff: 2 0\n",
      "HumanEval/157: Pass @10 diff: 0 4\n",
      "HumanEval/159: Pass @10 diff: 0 1\n"
     ]
    }
   ],
   "source": [
    "import json\n",
    "\n",
    "def passed(model: str) -> list[bool]:\n",
    "    with open(f\"results/{model}/eval.jsonl_results.jsonl\", \"r\") as f:\n",
    "        eval_results = [json.loads(l) for l in f]\n",
    "        \n",
    "    def group(l: list[bool]) -> list[list[bool]]:\n",
    "        l = list(l)\n",
    "        return [l[i:i+10] for i in range(0, len(l), 10)]\n",
    "    \n",
    "    return group([r[\"passed\"] for r in eval_results])\n",
    "\n",
    "def compare(model1: str, model2: str):\n",
    "    model1_passed = passed(model1)\n",
    "    model2_passed = passed(model2)\n",
    "    \n",
    "    # print differences    \n",
    "    for i, (p1, p2) in enumerate(zip(model1_passed, model2_passed)):\n",
    "        pass_at_1_diff = p1[0] != p2[0]\n",
    "        pass_at_10_diff = any(p1) != any(p2)\n",
    "        # if pass_at_1_diff:\n",
    "        #     print(f\"HumanEval/{i}: Pass @1 diff: {p1[0]} vs {p2[0]}\")\n",
    "        if pass_at_10_diff:\n",
    "            print(f\"HumanEval/{i}: Pass @10 diff: {sum(p1)} {sum(p2)}\")\n",
    "\n",
    "# compare(\"replit_coder_prompt\", \"replit_instruct\")\n",
    "compare(\"replit_coder\", \"replit_instruct\")\n",
    "# compare(\"replit_coder\", \"replit_coder_prompt\")"
   ]
  },
  {
   "cell_type": "code",
   "execution_count": null,
   "metadata": {},
   "outputs": [],
   "source": []
  }
 ],
 "metadata": {
  "kernelspec": {
   "display_name": "env",
   "language": "python",
   "name": "python3"
  },
  "language_info": {
   "codemirror_mode": {
    "name": "ipython",
    "version": 3
   },
   "file_extension": ".py",
   "mimetype": "text/x-python",
   "name": "python",
   "nbconvert_exporter": "python",
   "pygments_lexer": "ipython3",
   "version": "3.10.10"
  },
  "orig_nbformat": 4
 },
 "nbformat": 4,
 "nbformat_minor": 2
}
